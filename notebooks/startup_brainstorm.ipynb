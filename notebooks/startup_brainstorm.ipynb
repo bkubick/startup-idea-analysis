{
 "cells": [
  {
   "cell_type": "markdown",
   "id": "476e8ddd-bec2-479f-8ffe-c02db89a2e3e",
   "metadata": {},
   "source": [
    "# Startup Idea Brainstorming\n",
    "\n",
    "## Description\n",
    "The purpose of this notebook is to start brainstorming potential startup ideas."
   ]
  },
  {
   "cell_type": "markdown",
   "id": "89999e4e",
   "metadata": {},
   "source": [
    "## Imports & Setup"
   ]
  },
  {
   "cell_type": "code",
   "execution_count": 1,
   "id": "1a3bb8ef-7add-4b3a-b15f-fe6683180eac",
   "metadata": {},
   "outputs": [],
   "source": [
    "import sys\n",
    "sys.path.append('../')\n",
    "\n",
    "from src.idea_generator.clients.chat_gpt import ChatGptApi\n",
    "from src.idea_generator.models.idea import Idea\n",
    "from notebooks.settings import Config"
   ]
  },
  {
   "cell_type": "code",
   "execution_count": 2,
   "id": "0307703c",
   "metadata": {},
   "outputs": [],
   "source": [
    "config = Config()\n",
    "api = ChatGptApi(config.openai_api_token)"
   ]
  },
  {
   "cell_type": "markdown",
   "id": "a92b8709",
   "metadata": {},
   "source": [
    "## Prompts"
   ]
  },
  {
   "cell_type": "code",
   "execution_count": 13,
   "id": "59a65518",
   "metadata": {},
   "outputs": [],
   "source": [
    "from pydantic import BaseModel\n",
    "\n",
    "def get_schema_response(model: type[BaseModel]):\n",
    "    schema = model.model_json_schema()\n",
    "\n",
    "    return schema\n",
    "\n",
    "schema = get_schema_response(Idea)\n",
    "\n",
    "\n",
    "PROMPT = f\"\"\"\n",
    "Generate an idea for a new product or service that could be useful for people in the future.\n",
    "\n",
    "Please format your response as a JSON object with the following structure:\n",
    "\n",
    "{schema}\n",
    "\n",
    "Where, the `description` field of each field is a brief definition of the field.\n",
    "\"\"\""
   ]
  },
  {
   "cell_type": "code",
   "execution_count": 14,
   "id": "6d902452",
   "metadata": {},
   "outputs": [
    {
     "data": {
      "text/plain": [
       "\"\\nGenerate an idea for a new product or service that could be useful for people in the future.\\n\\nPlease format your response as a JSON object with the following structure:\\n\\n{'$defs': {'Market': {'description': 'Dataclass for a market object. ', 'properties': {'name': {'description': 'The name of the market.', 'title': 'Name', 'type': 'string'}, 'description': {'description': 'A brief description of the market.', 'title': 'Description', 'type': 'string'}, 'market_cap': {'description': 'The market capitalization of the market.', 'title': 'Market Cap', 'type': 'integer'}, 'growth_rate': {'description': 'The growth rate of the market.', 'title': 'Growth Rate', 'type': 'number'}, 'competitors': {'default': [], 'description': 'A list of competitors in the market.', 'items': {'type': 'string'}, 'title': 'Competitors', 'type': 'array'}}, 'required': ['name', 'description', 'market_cap', 'growth_rate'], 'title': 'Market', 'type': 'object'}}, 'description': 'Dataclass for an idea object. ', 'properties': {'title': {'description': 'The title of the idea.', 'title': 'Title', 'type': 'string'}, 'description': {'description': 'A brief description of the idea.', 'title': 'Description', 'type': 'string'}, 'rating': {'anyOf': [{'type': 'integer'}, {'type': 'null'}], 'default': None, 'description': 'The rating of the idea.', 'title': 'Rating'}, 'existing_ideas': {'default': [], 'description': 'A list of existing ideas.', 'items': {'type': 'string'}, 'title': 'Existing Ideas', 'type': 'array'}, 'market': {'$ref': '#/$defs/Market', 'description': 'The market of the idea.'}, 'idea_type': {'description': 'The type of the idea. (e.g. product, service, website, etc.)', 'title': 'Idea Type', 'type': 'string'}, 'industry': {'description': 'The industry of the idea. (e.g. technology, healthcare, finance, etc.)', 'title': 'Industry', 'type': 'string'}, 'tags': {'default': [], 'description': 'A list of tags for the idea.', 'items': {'type': 'string'}, 'title': 'Tags', 'type': 'array'}, 'notes': {'anyOf': [{'type': 'string'}, {'type': 'null'}], 'default': None, 'description': 'Additional notes for the idea.', 'title': 'Notes'}}, 'required': ['title', 'description', 'market', 'idea_type', 'industry'], 'title': 'Idea', 'type': 'object'}\\n\\nWhere, the `description` field of each field is a brief definition of the field.\\n\""
      ]
     },
     "execution_count": 14,
     "metadata": {},
     "output_type": "execute_result"
    }
   ],
   "source": [
    "PROMPT"
   ]
  },
  {
   "cell_type": "code",
   "execution_count": 15,
   "id": "17925445",
   "metadata": {},
   "outputs": [],
   "source": [
    "resp = api.ask_prompt(PROMPT)"
   ]
  },
  {
   "cell_type": "code",
   "execution_count": null,
   "id": "0ad87ea5",
   "metadata": {},
   "outputs": [
    {
     "data": {
      "text/plain": [
       "GPTResponseData(choices=[GPTResponseChoice(finish_reason='stop', index=0, message=Message(role='assistant', content='{\\n  \"$defs\": {\\n    \"Market\": {\\n      \"description\": \"Dataclass for a market object.\",\\n      \"properties\": {\\n        \"name\": {\\n          \"description\": \"The name of the market.\",\\n          \"title\": \"Name\",\\n          \"type\": \"string\"\\n        },\\n        \"description\": {\\n          \"description\": \"A brief description of the market.\",\\n          \"title\": \"Description\",\\n          \"type\": \"string\"\\n        },\\n        \"market_cap\": {\\n          \"description\": \"The market capitalization of the market.\",\\n          \"title\": \"Market Cap\",\\n          \"type\": \"integer\"\\n        },\\n        \"growth_rate\": {\\n          \"description\": \"The growth rate of the market.\",\\n          \"title\": \"Growth Rate\",\\n          \"type\": \"number\"\\n        },\\n        \"competitors\": {\\n          \"default\": [],\\n          \"description\": \"A list of competitors in the market.\",\\n          \"items\": {\\n            \"type\": \"string\"\\n          },\\n          \"title\": \"Competitors\",\\n          \"type\": \"array\"\\n        }\\n      },\\n      \"required\": [\\n        \"name\",\\n        \"description\",\\n        \"market_cap\",\\n        \"growth_rate\"\\n      ],\\n      \"title\": \"Market\",\\n      \"type\": \"object\"\\n    }\\n  },\\n  \"description\": \"Dataclass for an idea object.\",\\n  \"properties\": {\\n    \"title\": {\\n      \"description\": \"A drone delivery service for healthcare supplies.\",\\n      \"title\": \"Title\",\\n      \"type\": \"string\"\\n    },\\n    \"description\": {\\n      \"description\": \"A service that uses autonomous drones to deliver essential healthcare supplies like medications, blood samples, etc., reducing the time and cost associated with traditional delivery methods.\",\\n      \"title\": \"Description\",\\n      \"type\": \"string\"\\n    },\\n    \"rating\": {\\n      \"anyOf\": [\\n        {\\n          \"type\": \"integer\"\\n        },\\n        {\\n          \"type\": \"null\"\\n        }\\n      ],\\n      \"default\": None,\\n      \"description\": \"The rating of the idea.\",\\n      \"title\": \"Rating\"\\n    },\\n    \"existing_ideas\": {\\n      \"default\": [],\\n      \"description\": \"A list of existing ideas.\",\\n      \"items\": {\\n        \"type\": \"string\"\\n      },\\n      \"title\": \"Existing Ideas\",\\n      \"type\": \"array\"\\n    },\\n    \"market\": {\\n      \"$ref\": \"#/$defs/Market\",\\n      \"description\": \"The market of drone delivery service in healthcare sector.\",\\n      \"title\": \"Market\",\\n      \"type\": \"object\"\\n    },\\n    \"idea_type\": {\\n      \"description\": \"Service\",\\n      \"title\": \"Idea Type\",\\n      \"type\": \"string\"\\n    },\\n    \"industry\": {\\n      \"description\": \"Healthcare and Technology\",\\n      \"title\": \"Industry\",\\n      \"type\": \"string\"\\n    },\\n    \"tags\": {\\n      \"default\": [\"drone\", \"delivery\", \"healthcare\", \"technology\"],\\n      \"description\": \"A list of tags for the idea.\",\\n      \"items\": {\\n        \"type\": \"string\"\\n      },\\n      \"title\": \"Tags\",\\n      \"type\": \"array\"\\n    },\\n    \"notes\": {\\n      \"anyOf\": [\\n        {\\n          \"type\": \"string\"\\n        },\\n        {\\n          \"type\": \"null\"\\n        }\\n      ],\\n      \"default\": \"The service could significantly improve access to healthcare in remote or inaccessible areas.\",\\n      \"description\": \"Additional notes for the idea.\",\\n      \"title\": \"Notes\"\\n    }\\n  },\\n  \"required\": [\"title\", \"description\", \"market\", \"idea_type\", \"industry\"],\\n  \"title\": \"Idea\",\\n  \"type\": \"object\"\\n}'))], created=1731894771, id='chatcmpl-AUlEZxfILgygbhCBKSdz8flY4CPRy', model='gpt-4-0613', object='chat.completion')"
      ]
     },
     "execution_count": 16,
     "metadata": {},
     "output_type": "execute_result"
    }
   ],
   "source": [
    "resp"
   ]
  },
  {
   "cell_type": "code",
   "execution_count": 20,
   "id": "e89ac615",
   "metadata": {},
   "outputs": [
    {
     "data": {
      "text/plain": [
       "'{\\n  \"$defs\": {\\n    \"Market\": {\\n      \"description\": \"Dataclass for a market object.\",\\n      \"properties\": {\\n        \"name\": {\\n          \"description\": \"The name of the market.\",\\n          \"title\": \"Name\",\\n          \"type\": \"string\"\\n        }'"
      ]
     },
     "execution_count": 20,
     "metadata": {},
     "output_type": "execute_result"
    }
   ],
   "source": [
    "choice = resp.choices[0]\n",
    "message = choice.message\n",
    "\n",
    "json_str = message.content[message.content.index('{'):message.content.index('}') + 1]\n",
    "json_str"
   ]
  },
  {
   "cell_type": "code",
   "execution_count": 19,
   "id": "3e61246d",
   "metadata": {},
   "outputs": [
    {
     "ename": "JSONDecodeError",
     "evalue": "Expecting ',' delimiter: line 10 column 10 (char 241)",
     "output_type": "error",
     "traceback": [
      "\u001b[0;31m---------------------------------------------------------------------------\u001b[0m",
      "\u001b[0;31mJSONDecodeError\u001b[0m                           Traceback (most recent call last)",
      "Cell \u001b[0;32mIn[19], line 2\u001b[0m\n\u001b[1;32m      1\u001b[0m \u001b[38;5;28;01mimport\u001b[39;00m \u001b[38;5;21;01mjson\u001b[39;00m\n\u001b[0;32m----> 2\u001b[0m t \u001b[38;5;241m=\u001b[39m \u001b[43mjson\u001b[49m\u001b[38;5;241;43m.\u001b[39;49m\u001b[43mloads\u001b[49m\u001b[43m(\u001b[49m\u001b[43mjson_str\u001b[49m\u001b[43m)\u001b[49m\n",
      "File \u001b[0;32m~/.pyenv/versions/3.11.9/lib/python3.11/json/__init__.py:346\u001b[0m, in \u001b[0;36mloads\u001b[0;34m(s, cls, object_hook, parse_float, parse_int, parse_constant, object_pairs_hook, **kw)\u001b[0m\n\u001b[1;32m    341\u001b[0m     s \u001b[38;5;241m=\u001b[39m s\u001b[38;5;241m.\u001b[39mdecode(detect_encoding(s), \u001b[38;5;124m'\u001b[39m\u001b[38;5;124msurrogatepass\u001b[39m\u001b[38;5;124m'\u001b[39m)\n\u001b[1;32m    343\u001b[0m \u001b[38;5;28;01mif\u001b[39;00m (\u001b[38;5;28mcls\u001b[39m \u001b[38;5;129;01mis\u001b[39;00m \u001b[38;5;28;01mNone\u001b[39;00m \u001b[38;5;129;01mand\u001b[39;00m object_hook \u001b[38;5;129;01mis\u001b[39;00m \u001b[38;5;28;01mNone\u001b[39;00m \u001b[38;5;129;01mand\u001b[39;00m\n\u001b[1;32m    344\u001b[0m         parse_int \u001b[38;5;129;01mis\u001b[39;00m \u001b[38;5;28;01mNone\u001b[39;00m \u001b[38;5;129;01mand\u001b[39;00m parse_float \u001b[38;5;129;01mis\u001b[39;00m \u001b[38;5;28;01mNone\u001b[39;00m \u001b[38;5;129;01mand\u001b[39;00m\n\u001b[1;32m    345\u001b[0m         parse_constant \u001b[38;5;129;01mis\u001b[39;00m \u001b[38;5;28;01mNone\u001b[39;00m \u001b[38;5;129;01mand\u001b[39;00m object_pairs_hook \u001b[38;5;129;01mis\u001b[39;00m \u001b[38;5;28;01mNone\u001b[39;00m \u001b[38;5;129;01mand\u001b[39;00m \u001b[38;5;129;01mnot\u001b[39;00m kw):\n\u001b[0;32m--> 346\u001b[0m     \u001b[38;5;28;01mreturn\u001b[39;00m \u001b[43m_default_decoder\u001b[49m\u001b[38;5;241;43m.\u001b[39;49m\u001b[43mdecode\u001b[49m\u001b[43m(\u001b[49m\u001b[43ms\u001b[49m\u001b[43m)\u001b[49m\n\u001b[1;32m    347\u001b[0m \u001b[38;5;28;01mif\u001b[39;00m \u001b[38;5;28mcls\u001b[39m \u001b[38;5;129;01mis\u001b[39;00m \u001b[38;5;28;01mNone\u001b[39;00m:\n\u001b[1;32m    348\u001b[0m     \u001b[38;5;28mcls\u001b[39m \u001b[38;5;241m=\u001b[39m JSONDecoder\n",
      "File \u001b[0;32m~/.pyenv/versions/3.11.9/lib/python3.11/json/decoder.py:337\u001b[0m, in \u001b[0;36mJSONDecoder.decode\u001b[0;34m(self, s, _w)\u001b[0m\n\u001b[1;32m    332\u001b[0m \u001b[38;5;28;01mdef\u001b[39;00m \u001b[38;5;21mdecode\u001b[39m(\u001b[38;5;28mself\u001b[39m, s, _w\u001b[38;5;241m=\u001b[39mWHITESPACE\u001b[38;5;241m.\u001b[39mmatch):\n\u001b[1;32m    333\u001b[0m \u001b[38;5;250m    \u001b[39m\u001b[38;5;124;03m\"\"\"Return the Python representation of ``s`` (a ``str`` instance\u001b[39;00m\n\u001b[1;32m    334\u001b[0m \u001b[38;5;124;03m    containing a JSON document).\u001b[39;00m\n\u001b[1;32m    335\u001b[0m \n\u001b[1;32m    336\u001b[0m \u001b[38;5;124;03m    \"\"\"\u001b[39;00m\n\u001b[0;32m--> 337\u001b[0m     obj, end \u001b[38;5;241m=\u001b[39m \u001b[38;5;28;43mself\u001b[39;49m\u001b[38;5;241;43m.\u001b[39;49m\u001b[43mraw_decode\u001b[49m\u001b[43m(\u001b[49m\u001b[43ms\u001b[49m\u001b[43m,\u001b[49m\u001b[43m \u001b[49m\u001b[43midx\u001b[49m\u001b[38;5;241;43m=\u001b[39;49m\u001b[43m_w\u001b[49m\u001b[43m(\u001b[49m\u001b[43ms\u001b[49m\u001b[43m,\u001b[49m\u001b[43m \u001b[49m\u001b[38;5;241;43m0\u001b[39;49m\u001b[43m)\u001b[49m\u001b[38;5;241;43m.\u001b[39;49m\u001b[43mend\u001b[49m\u001b[43m(\u001b[49m\u001b[43m)\u001b[49m\u001b[43m)\u001b[49m\n\u001b[1;32m    338\u001b[0m     end \u001b[38;5;241m=\u001b[39m _w(s, end)\u001b[38;5;241m.\u001b[39mend()\n\u001b[1;32m    339\u001b[0m     \u001b[38;5;28;01mif\u001b[39;00m end \u001b[38;5;241m!=\u001b[39m \u001b[38;5;28mlen\u001b[39m(s):\n",
      "File \u001b[0;32m~/.pyenv/versions/3.11.9/lib/python3.11/json/decoder.py:353\u001b[0m, in \u001b[0;36mJSONDecoder.raw_decode\u001b[0;34m(self, s, idx)\u001b[0m\n\u001b[1;32m    344\u001b[0m \u001b[38;5;250m\u001b[39m\u001b[38;5;124;03m\"\"\"Decode a JSON document from ``s`` (a ``str`` beginning with\u001b[39;00m\n\u001b[1;32m    345\u001b[0m \u001b[38;5;124;03ma JSON document) and return a 2-tuple of the Python\u001b[39;00m\n\u001b[1;32m    346\u001b[0m \u001b[38;5;124;03mrepresentation and the index in ``s`` where the document ended.\u001b[39;00m\n\u001b[0;32m   (...)\u001b[0m\n\u001b[1;32m    350\u001b[0m \n\u001b[1;32m    351\u001b[0m \u001b[38;5;124;03m\"\"\"\u001b[39;00m\n\u001b[1;32m    352\u001b[0m \u001b[38;5;28;01mtry\u001b[39;00m:\n\u001b[0;32m--> 353\u001b[0m     obj, end \u001b[38;5;241m=\u001b[39m \u001b[38;5;28;43mself\u001b[39;49m\u001b[38;5;241;43m.\u001b[39;49m\u001b[43mscan_once\u001b[49m\u001b[43m(\u001b[49m\u001b[43ms\u001b[49m\u001b[43m,\u001b[49m\u001b[43m \u001b[49m\u001b[43midx\u001b[49m\u001b[43m)\u001b[49m\n\u001b[1;32m    354\u001b[0m \u001b[38;5;28;01mexcept\u001b[39;00m \u001b[38;5;167;01mStopIteration\u001b[39;00m \u001b[38;5;28;01mas\u001b[39;00m err:\n\u001b[1;32m    355\u001b[0m     \u001b[38;5;28;01mraise\u001b[39;00m JSONDecodeError(\u001b[38;5;124m\"\u001b[39m\u001b[38;5;124mExpecting value\u001b[39m\u001b[38;5;124m\"\u001b[39m, s, err\u001b[38;5;241m.\u001b[39mvalue) \u001b[38;5;28;01mfrom\u001b[39;00m \u001b[38;5;28;01mNone\u001b[39;00m\n",
      "\u001b[0;31mJSONDecodeError\u001b[0m: Expecting ',' delimiter: line 10 column 10 (char 241)"
     ]
    }
   ],
   "source": [
    "import json\n",
    "t = json.loads(json_str)"
   ]
  },
  {
   "cell_type": "code",
   "execution_count": null,
   "id": "716af181",
   "metadata": {},
   "outputs": [],
   "source": []
  }
 ],
 "metadata": {
  "kernelspec": {
   "display_name": "env",
   "language": "python",
   "name": "python3"
  },
  "language_info": {
   "codemirror_mode": {
    "name": "ipython",
    "version": 3
   },
   "file_extension": ".py",
   "mimetype": "text/x-python",
   "name": "python",
   "nbconvert_exporter": "python",
   "pygments_lexer": "ipython3",
   "version": "3.11.9"
  }
 },
 "nbformat": 4,
 "nbformat_minor": 5
}
